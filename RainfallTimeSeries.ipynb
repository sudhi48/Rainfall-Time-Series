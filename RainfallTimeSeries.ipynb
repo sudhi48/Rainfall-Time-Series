{
 "cells": [
  {
   "cell_type": "code",
   "execution_count": 15,
   "metadata": {},
   "outputs": [],
   "source": [
    "import zipfile\n",
    "import os\n",
    "import pandas as pd"
   ]
  },
  {
   "cell_type": "code",
   "execution_count": 6,
   "metadata": {},
   "outputs": [
    {
     "name": "stdout",
     "output_type": "stream",
     "text": [
      "Data extracted to .\\Dataset-org\n"
     ]
    }
   ],
   "source": [
    "# Path to the zip file\n",
    "zip_file_path = '.\\Dataset-zip\\PRAICP-1004-RainfallTS.zip'\n",
    "\n",
    "# Path to the dataset folder\n",
    "dataset_folder = '.\\Dataset-org'\n",
    "\n",
    "# Create the dataset folder if it doesn't exist\n",
    "os.makedirs(dataset_folder, exist_ok=True)\n",
    "\n",
    "# Unzip the file\n",
    "with zipfile.ZipFile(zip_file_path, 'r') as zip_ref:\n",
    "    zip_ref.extractall(dataset_folder)\n",
    "\n",
    "print(f\"Data extracted to {dataset_folder}\")"
   ]
  },
  {
   "cell_type": "code",
   "execution_count": 14,
   "metadata": {},
   "outputs": [
    {
     "name": "stdout",
     "output_type": "stream",
     "text": [
      "       month  maximum_rainfall_in_a_day  no_of_rainy_days  total_rainfall\n",
      "0    1982-01                       36.5                10           107.1\n",
      "1    1982-02                        9.4                 5            27.8\n",
      "2    1982-03                       61.7                11           160.8\n",
      "3    1982-04                       45.1                14           157.0\n",
      "4    1982-05                       33.0                10           102.2\n",
      "..       ...                        ...               ...             ...\n",
      "457  2020-02                       23.8                 8            65.0\n",
      "458  2020-03                       47.4                 8           108.8\n",
      "459  2020-04                       51.8                12           188.0\n",
      "460  2020-05                       53.8                16           255.6\n",
      "461  2020-06                       41.0                21           233.8\n",
      "\n",
      "[462 rows x 4 columns]\n"
     ]
    }
   ],
   "source": [
    "# Load datasets\n",
    "df_highest_monthly_total = pd.read_csv('Dataset-org/Data/rainfall-monthly-highest-daily-total.csv')\n",
    "df_rainy_days = pd.read_csv('Dataset-org/Data/rainfall-monthly-number-of-rain-days.csv')\n",
    "df_total_rainfall = pd.read_csv('Dataset-org/Data/rainfall-monthly-total.csv')\n",
    "\n",
    "# Merge datasets on 'month'\n",
    "df_combined = pd.merge(df_highest_monthly_total, df_rainy_days, on='month')\n",
    "df_combined = pd.merge(df_combined, df_total_rainfall, on='month')\n",
    "\n",
    "# Convert 'month' column to datetime if not already\n",
    "df_combined['month'] = pd.to_datetime(df_combined['month'], format='%Y-%m')\n",
    "\n",
    "# Format the 'month' column to display only Year and Month (YYYY-MM) as a string\n",
    "df_combined['month'] = df_combined['month'].dt.strftime('%Y-%m')\n",
    "\n",
    "# Display the combined dataframe to verify the result\n",
    "print(df_combined)"
   ]
  },
  {
   "cell_type": "code",
   "execution_count": 16,
   "metadata": {},
   "outputs": [],
   "source": [
    "df_combined.to_csv('Dataset-org/Data/df_combined.csv',index=False)"
   ]
  }
 ],
 "metadata": {
  "kernelspec": {
   "display_name": "myenv",
   "language": "python",
   "name": "python3"
  },
  "language_info": {
   "codemirror_mode": {
    "name": "ipython",
    "version": 3
   },
   "file_extension": ".py",
   "mimetype": "text/x-python",
   "name": "python",
   "nbconvert_exporter": "python",
   "pygments_lexer": "ipython3",
   "version": "3.10.0"
  }
 },
 "nbformat": 4,
 "nbformat_minor": 2
}
